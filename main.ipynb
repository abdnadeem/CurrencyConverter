{
 "cells": [
  {
   "cell_type": "code",
   "execution_count": 1,
   "metadata": {},
   "outputs": [],
   "source": [
    "from PyQt5.QtCore import *\n",
    "from PyQt5.QtGui import *\n",
    "from PyQt5.QtWidgets import *"
   ]
  },
  {
   "cell_type": "code",
   "execution_count": 2,
   "metadata": {},
   "outputs": [],
   "source": [
    "import Pydesigner as pydesigner"
   ]
  },
  {
   "cell_type": "code",
   "execution_count": 3,
   "metadata": {},
   "outputs": [],
   "source": [
    "import sys\n",
    "import requests"
   ]
  },
  {
   "cell_type": "code",
   "execution_count": 4,
   "metadata": {},
   "outputs": [],
   "source": [
    "class design(QDialog, pydesigner.Ui_Dialog):\n",
    "\n",
    "    def __init__(self, parent=None):\n",
    "        super(design, self).__init__(parent)\n",
    "        self.setupUi(self)\n",
    "        self.PushButton_1.clicked.connect(self.load_rates)\n",
    "\n",
    "    def load_rates(self):\n",
    "        reference = self.ComboBox.currentText()\n",
    "        url = 'https://api.exchangerate-api.com/v4/latest/' + reference\n",
    "        response = requests.get(url)\n",
    "        data = response.json()\n",
    "\n",
    "        self.LineEdit_2.setText(str(data['rates']['IDR']))\n",
    "        self.LineEdit_3.setText(str(data['rates']['PHP']))\n",
    "        self.LineEdit_1.setText(str(data['rates']['USD']))\n",
    "    \n",
    "        "
   ]
  },
  {
   "cell_type": "code",
   "execution_count": null,
   "metadata": {},
   "outputs": [],
   "source": [
    "if __name__ == \"__main__\":\n",
    "\n",
    "    app = QApplication(sys.argv)\n",
    "    form = design()\n",
    "    form.show()\n",
    "    app.exec_()"
   ]
  },
  {
   "cell_type": "code",
   "execution_count": null,
   "metadata": {},
   "outputs": [],
   "source": []
  },
  {
   "cell_type": "code",
   "execution_count": null,
   "metadata": {},
   "outputs": [],
   "source": []
  }
 ],
 "metadata": {
  "kernelspec": {
   "display_name": "Python 3",
   "language": "python",
   "name": "python3"
  },
  "language_info": {
   "codemirror_mode": {
    "name": "ipython",
    "version": 3
   },
   "file_extension": ".py",
   "mimetype": "text/x-python",
   "name": "python",
   "nbconvert_exporter": "python",
   "pygments_lexer": "ipython3",
   "version": "3.6.5"
  }
 },
 "nbformat": 4,
 "nbformat_minor": 4
}
